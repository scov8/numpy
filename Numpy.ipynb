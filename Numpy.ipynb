{
  "nbformat": 4,
  "nbformat_minor": 0,
  "metadata": {
    "colab": {
      "name": "Numpy.ipynb",
      "provenance": [],
      "collapsed_sections": []
    },
    "language_info": {
      "codemirror_mode": {
        "name": "ipython",
        "version": 3
      },
      "file_extension": ".py",
      "mimetype": "text/x-python",
      "name": "python",
      "nbconvert_exporter": "python",
      "pygments_lexer": "ipython3",
      "version": "3.6.8"
    },
    "kernelspec": {
      "display_name": "Python [default]",
      "language": "python",
      "name": "python3"
    },
    "accelerator": "GPU"
  },
  "cells": [
    {
      "cell_type": "markdown",
      "metadata": {
        "id": "SvrSpbgNNTl_"
      },
      "source": [
        "Introduction to Numpy\n",
        "==============\n",
        "Vectors and matrices are not natively managered in Python.\n",
        "Although a list of lists can be used as a matrix, we need a set of function to easily work with it.\n",
        "For this reason, the Numpy library is essential for dealing with vectors and matrices.\n",
        "The Numpy array (`numpy.ndarray`) is generally used for vectors, matrices, and multi-dimensional data sets.\n",
        "Respect to a list, the elements of a Numpy array must be homogeneous. In other words, all elements of a Numpy array must be of the same type that is defined when the array is created.\n",
        "\n",
        "To begin to use the Numpy library, we need to import the `numpy` module."
      ]
    },
    {
      "cell_type": "code",
      "metadata": {
        "ExecuteTime": {
          "end_time": "2019-05-16T13:48:14.551540Z",
          "start_time": "2019-05-16T13:48:14.397473Z"
        },
        "id": "Q9Fk4AhFNTmB"
      },
      "source": [
        "import numpy as np"
      ],
      "execution_count": null,
      "outputs": []
    },
    {
      "cell_type": "markdown",
      "metadata": {
        "id": "weS-04XZNTmH"
      },
      "source": [
        "Note that we have used an alias. In this way, we will access only using `np.` to the variables and functions of the Numpy library.\n",
        "\n",
        "\n",
        "For convenience, the Numpy array will be called simply array. An array can be created in different ways. A first way is to create if from a list using the function `np.array( )`."
      ]
    },
    {
      "cell_type": "code",
      "metadata": {
        "ExecuteTime": {
          "end_time": "2019-05-16T13:48:14.571838Z",
          "start_time": "2019-05-16T13:48:14.554874Z"
        },
        "id": "d7j_Ed4nNTmI",
        "colab": {
          "base_uri": "https://localhost:8080/"
        },
        "outputId": "4df174e5-067d-496f-f1e7-62173b2e1dcd"
      },
      "source": [
        "# to create new vector from a lists we can use the `np.array` function.\n",
        "l1 = [ 4, 5, 1, 3, 4]  # it is a list\n",
        "a1 = np.array(l1)      # it is an array\n",
        "print('Vector:', a1)\n",
        "\n",
        "l2 = [ [5.0, 1.4,], [5.5, 2.1]]  # it is a list of lists\n",
        "a2 = np.array(l2)                # it is an array\n",
        "print('Matrix:\\n', a2)\n",
        "\n",
        "# We can explicitly define the type of data using the `dtype` argument: \n",
        "a3 = np.array(l2, dtype=int)     \n",
        "print('Matrix of integeres:\\n', a3)"
      ],
      "execution_count": null,
      "outputs": [
        {
          "output_type": "stream",
          "name": "stdout",
          "text": [
            "Vector: [4 5 1 3 4]\n",
            "Matrix:\n",
            " [[5.  1.4]\n",
            " [5.5 2.1]]\n",
            "Matrix of integeres:\n",
            " [[5 1]\n",
            " [5 2]]\n"
          ]
        }
      ]
    },
    {
      "cell_type": "markdown",
      "metadata": {
        "id": "i1kfewigNTmL"
      },
      "source": [
        "## Data Type\n",
        "Numpy supportd differents data types, such as: `np.uint8`, `np.int64`, `np.float32`, `np.float64`, `np.complex64`, `np.bool`.\n",
        "\n",
        "Using the `dtype` property of an array, we can know the data type."
      ]
    },
    {
      "cell_type": "code",
      "metadata": {
        "ExecuteTime": {
          "end_time": "2019-05-16T13:48:14.694101Z",
          "start_time": "2019-05-16T13:48:14.574439Z"
        },
        "id": "WPWzac0YNTmM",
        "colab": {
          "base_uri": "https://localhost:8080/"
        },
        "outputId": "d72b8232-f44a-44cc-87e4-02c46e73d266"
      },
      "source": [
        "print(\"The data type of 'a1' is \", a1.dtype)\n",
        "print(\"The data type of 'a2' is \", a2.dtype)\n",
        "print(\"The data type of 'a3' is \", a3.dtype)"
      ],
      "execution_count": null,
      "outputs": [
        {
          "output_type": "stream",
          "name": "stdout",
          "text": [
            "The data type of 'a1' is  int64\n",
            "The data type of 'a2' is  float64\n",
            "The data type of 'a3' is  int64\n"
          ]
        }
      ]
    },
    {
      "cell_type": "markdown",
      "metadata": {
        "ExecuteTime": {
          "end_time": "2019-05-12T12:16:12.819758Z",
          "start_time": "2019-05-12T12:16:12.814014Z"
        },
        "id": "MiF2E89eNTmP"
      },
      "source": [
        "## Properties of arrays\n",
        "\n",
        "An array has other useful properties:\n",
        "- `.ndim`  : returns the number of dimensions.\n",
        "- `.shape` : returns a tuple where each element is the length along that dimension.\n",
        "- `.size`  : returns the number of elements of the array.\n",
        "- `.nbytes`: returns the bytes of the array."
      ]
    },
    {
      "cell_type": "code",
      "metadata": {
        "ExecuteTime": {
          "end_time": "2019-05-16T13:48:14.786104Z",
          "start_time": "2019-05-16T13:48:14.696758Z"
        },
        "id": "YwBj3aEgNTmQ",
        "colab": {
          "base_uri": "https://localhost:8080/"
        },
        "outputId": "355e7e55-1036-45aa-bc70-ebe407de5100"
      },
      "source": [
        "print(\"The  ndim of 'a1' is \", a1.ndim )\n",
        "print(\"The  ndim of 'a2' is \", a2.ndim )\n",
        "print(\"The shape of 'a1' is \", a1.shape)\n",
        "print(\"The shape of 'a2' is \", a2.shape)\n",
        "print(\"The  size of 'a1' is \", a1.size )\n",
        "print(\"The  size of 'a2' is \", a2.size )"
      ],
      "execution_count": null,
      "outputs": [
        {
          "output_type": "stream",
          "name": "stdout",
          "text": [
            "The  ndim of 'a1' is  1\n",
            "The  ndim of 'a2' is  2\n",
            "The shape of 'a1' is  (5,)\n",
            "The shape of 'a2' is  (2, 2)\n",
            "The  size of 'a1' is  5\n",
            "The  size of 'a2' is  4\n"
          ]
        }
      ]
    },
    {
      "cell_type": "markdown",
      "metadata": {
        "ExecuteTime": {
          "end_time": "2019-05-12T12:49:56.847706Z",
          "start_time": "2019-05-12T12:49:56.835266Z"
        },
        "id": "QTuK_jQrNTmU"
      },
      "source": [
        "# Creating Arrays\n",
        "There are many functions that generate arrays of different forms. For examples:\n",
        "\n",
        "- `np.array( )`: constructs an array from a list.\n",
        "- `np.zeros( )`: creates an array with zeros of a given shape.\n",
        "- `np.ones( )`: creates an array with ones of a given shape.\n",
        "- `np.arange( )`: creates a mono-dimensional array that contains a sequence of numbers.\n",
        "- `np.copy( )`: creates an array replicating another array.\n",
        "- `np.random.rand( )`: creates an array with randomly-generated values from a uniform distribution.\n",
        "- `np.random.randn( )`: creates an array with randomly-generated values from a normal distribution.\n"
      ]
    },
    {
      "cell_type": "code",
      "metadata": {
        "ExecuteTime": {
          "end_time": "2019-05-16T13:48:14.864214Z",
          "start_time": "2019-05-16T13:48:14.788786Z"
        },
        "id": "vEyclBnMNTmV",
        "colab": {
          "base_uri": "https://localhost:8080/"
        },
        "outputId": "93bcc99d-ce5e-4578-b45f-985854c9dbef"
      },
      "source": [
        "# to create an array with zeros of shape (2,1,3) and dtype uint8\n",
        "z = np.zeros((2,1,3), dtype=np.uint8)\n",
        "print('array with zeros:\\n', z)\n",
        "\n",
        "# to create an array with ones of shape (3,2) and dtype float32\n",
        "o = np.ones((3,2), dtype=np.float32)\n",
        "print('array with oness:\\n', o)\n",
        "\n",
        "# to create an array with the even numbers from 0 to 10 (10 is excluded).\n",
        "r = np.arange(0, 10, 2) # arguments: start, stop, step\n",
        "print('array with a sequence:\\n', r)\n",
        "\n",
        "# to create an array of shape (4,4) with uniform random numbers in [0,1[\n",
        "u = np.random.rand(4,4)\n",
        "print('random array:\\n', u)\n",
        "# Note that the result of 'np.random.rand( )' is different for each execution \n"
      ],
      "execution_count": null,
      "outputs": [
        {
          "output_type": "stream",
          "name": "stdout",
          "text": [
            "array with zeros:\n",
            " [[[0 0 0]]\n",
            "\n",
            " [[0 0 0]]]\n",
            "array with oness:\n",
            " [[1. 1.]\n",
            " [1. 1.]\n",
            " [1. 1.]]\n",
            "array with a sequence:\n",
            " [0 2 4 6 8]\n",
            "random array:\n",
            " [[0.0355982  0.08819052 0.5491968  0.27517256]\n",
            " [0.94152029 0.41247718 0.62171835 0.60723583]\n",
            " [0.0972667  0.00851523 0.25266924 0.0565627 ]\n",
            " [0.14349747 0.27278121 0.44893404 0.66038216]]\n"
          ]
        }
      ]
    },
    {
      "cell_type": "markdown",
      "metadata": {
        "id": "Fd2NMTuqNTmX"
      },
      "source": [
        "# Indexing and  Slicing\n",
        "\n",
        "We can access a single element of an array or a sub-array using the square brackets likewise to the indexing and slicing of Python list.\n",
        "Moreover, Numpy also supports the Fancy-Indexing and the Boolean-Indexing, for a complete guide see the [official page](https://docs.scipy.org/doc/numpy/reference/arrays.indexing.html).\n",
        "\n",
        "\n",
        "Example of single element indexing:"
      ]
    },
    {
      "cell_type": "code",
      "metadata": {
        "ExecuteTime": {
          "end_time": "2019-05-16T13:48:15.002432Z",
          "start_time": "2019-05-16T13:48:14.868323Z"
        },
        "id": "4gn0HGDANTmY"
      },
      "source": [
        "matrix = np.random.rand(5,4)\n",
        "element = matrix[0,1] # get the element in first row and second column\n",
        "matrix[2,0] = 5.6     # set the element in third row and first column"
      ],
      "execution_count": null,
      "outputs": []
    },
    {
      "cell_type": "markdown",
      "metadata": {
        "id": "TlApv6_yNTma"
      },
      "source": [
        "Example of simple slicing:"
      ]
    },
    {
      "cell_type": "code",
      "metadata": {
        "ExecuteTime": {
          "end_time": "2019-05-16T13:48:15.111229Z",
          "start_time": "2019-05-16T13:48:15.005781Z"
        },
        "id": "EncPbk1sNTmb"
      },
      "source": [
        "matrix = np.random.rand(5,4)\n",
        "row = matrix[2,:]   # get the third row\n",
        "col = matrix[:,-1]  # get the last column"
      ],
      "execution_count": null,
      "outputs": []
    },
    {
      "cell_type": "markdown",
      "metadata": {
        "id": "vyilOftTNTmf"
      },
      "source": [
        "Note that in the previous example the arrays `row` and `col` are the same data type of `matrix` but a different number of dimensions.\n",
        "\n",
        "Also for the arrays, we can use the syntax `start:stop:step`, for examples:"
      ]
    },
    {
      "cell_type": "code",
      "metadata": {
        "ExecuteTime": {
          "end_time": "2019-05-16T13:48:15.193730Z",
          "start_time": "2019-05-16T13:48:15.114653Z"
        },
        "id": "YZVV30UDNTmf",
        "colab": {
          "base_uri": "https://localhost:8080/"
        },
        "outputId": "ccf41088-defd-45cc-873c-5a7ca5f63683"
      },
      "source": [
        "matrix = np.random.rand(5,4)\n",
        "a = matrix[:5:2,:]      # sub-array with the 0, 2 and the 4 row\n",
        "b = matrix[1:3,2:4]   # sub-array 2x2\n",
        "#matrix[:,1:2] = 0     # set to zero the second and third columns\n",
        "print(matrix)\n",
        "print(a)\n",
        "print(b)"
      ],
      "execution_count": null,
      "outputs": [
        {
          "output_type": "stream",
          "name": "stdout",
          "text": [
            "[[0.15329135 0.81673502 0.74382813 0.52430166]\n",
            " [0.68734195 0.62750544 0.30050773 0.24955024]\n",
            " [0.40805154 0.9030124  0.07976058 0.74237272]\n",
            " [0.8651307  0.4072185  0.59933923 0.66823383]\n",
            " [0.87954243 0.42876432 0.5234877  0.23349178]]\n",
            "[[0.15329135 0.81673502 0.74382813 0.52430166]\n",
            " [0.40805154 0.9030124  0.07976058 0.74237272]\n",
            " [0.87954243 0.42876432 0.5234877  0.23349178]]\n",
            "[[0.30050773 0.24955024]\n",
            " [0.07976058 0.74237272]]\n"
          ]
        }
      ]
    },
    {
      "cell_type": "markdown",
      "metadata": {
        "id": "sqPT-otqNTmk"
      },
      "source": [
        "# Element-wise operations and functions\n",
        "\n",
        "Numpy library provides efficient element-wise operations and functions applied across one or more arrays. For examples:\n",
        "\n",
        "- Arithmetic Operators (`+`, `-`, `*`, `/`,  ...)\n",
        "- Comparisons (`==`, `>`, `!=`, ...)\n",
        "- Boolean Functions (`np.logical_and( )`, `np.logical_not( )`, ...)\n",
        "- Math Functions (`np.maximum( )`, `np.exp( )`, `np.sin( )`, ...)"
      ]
    },
    {
      "cell_type": "code",
      "metadata": {
        "ExecuteTime": {
          "end_time": "2019-05-16T13:48:15.285706Z",
          "start_time": "2019-05-16T13:48:15.196995Z"
        },
        "id": "l2f0u45aNTmk",
        "colab": {
          "base_uri": "https://localhost:8080/"
        },
        "outputId": "fb364f5f-85d7-4f86-9d63-6667a369e2e8"
      },
      "source": [
        "l1 = [ 4, 5, 1, 3, 4]  # it is a list\n",
        "a1 = np.array(l1)      # it is an array\n",
        "\n",
        "l2 = [ 0, 3, 2, 7, 9]  # it is a list\n",
        "a2 = np.array(l2)      # it is an array\n",
        "\n",
        "# the sum of two lists is different from the sum of two arrays\n",
        "print('the sum of the two lists :', l1+l2)\n",
        "print('the sum of the two arrays:', a1+a2)"
      ],
      "execution_count": null,
      "outputs": [
        {
          "output_type": "stream",
          "name": "stdout",
          "text": [
            "the sum of the two lists : [4, 5, 1, 3, 4, 0, 3, 2, 7, 9]\n",
            "the sum of the two arrays: [ 4  8  3 10 13]\n"
          ]
        }
      ]
    },
    {
      "cell_type": "code",
      "metadata": {
        "ExecuteTime": {
          "end_time": "2019-05-16T13:48:15.399317Z",
          "start_time": "2019-05-16T13:48:15.289894Z"
        },
        "id": "jtJgyk9vNTmm",
        "colab": {
          "base_uri": "https://localhost:8080/"
        },
        "outputId": "38654c03-15ed-42b1-a297-6217f25a8a37"
      },
      "source": [
        "a1 = np.array([[4, 5], [1, 3]] ) # fist array\n",
        "a2 = np.array([[1, 3], [2, 7]] ) # second array\n",
        "\n",
        "# Some examples of element-wise operations and functions \n",
        "print('the maximum  of the two arrays:\\n', np.maximum(a1, a2) )\n",
        "print('the prodoct  of the two arrays:\\n', a1 * a2) # it is the element-wise prodoct\n",
        "print('the division of the two arrays:\\n', a1 / a2) # it is the element-wise division\n",
        "print('the floor-division of the two arrays:\\n', a1 // a2) # it is the element-wise floor-division\n"
      ],
      "execution_count": null,
      "outputs": [
        {
          "output_type": "stream",
          "name": "stdout",
          "text": [
            "the maximum  of the two arrays:\n",
            " [[4 5]\n",
            " [2 7]]\n",
            "the prodoct  of the two arrays:\n",
            " [[ 4 15]\n",
            " [ 2 21]]\n",
            "the division of the two arrays:\n",
            " [[4.         1.66666667]\n",
            " [0.5        0.42857143]]\n",
            "the floor-division of the two arrays:\n",
            " [[4 1]\n",
            " [0 0]]\n"
          ]
        }
      ]
    },
    {
      "cell_type": "markdown",
      "metadata": {
        "id": "BbS2Evt2NTmo"
      },
      "source": [
        "# Stacking & Reshaping & Transposing\n",
        "\n",
        "Numpy provides functions to stack, to reshape and to transpose the arrays."
      ]
    },
    {
      "cell_type": "markdown",
      "metadata": {
        "id": "RiYQknOWNTmo"
      },
      "source": [
        "## `np.concatenate(arrays_list, axis)`\n",
        "joins a list of arrays along an axis."
      ]
    },
    {
      "cell_type": "code",
      "metadata": {
        "ExecuteTime": {
          "end_time": "2019-05-16T13:48:15.534925Z",
          "start_time": "2019-05-16T13:48:15.403344Z"
        },
        "id": "zUYllhj_NTmp",
        "colab": {
          "base_uri": "https://localhost:8080/"
        },
        "outputId": "15f3a40f-8cc8-4588-deed-6c0a01ce6ab8"
      },
      "source": [
        "a0 = np.array([[1, 2], [3, 4]])  # it is an array 2x2\n",
        "a1 = np.array([[5, 6]])          # it is an array 1x2\n",
        "a2 = np.array([[5, ], [6,]])     # it is an array 2x1\n",
        "print('matrix \"a0\":\\n', a0)\n",
        "print('shape of \"a0\":', a0.shape)\n",
        "print('matrix \"a1\":\\n', a1)\n",
        "print('shape of \"a1\":', a1.shape)\n",
        "print('matrix \"a2\":\\n', a2)\n",
        "print('shape of \"a2\":', a1.shape)\n",
        "print()"
      ],
      "execution_count": null,
      "outputs": [
        {
          "output_type": "stream",
          "name": "stdout",
          "text": [
            "matrix \"a0\":\n",
            " [[1 2]\n",
            " [3 4]]\n",
            "shape of \"a0\": (2, 2)\n",
            "matrix \"a1\":\n",
            " [[5 6]]\n",
            "shape of \"a1\": (1, 2)\n",
            "matrix \"a2\":\n",
            " [[5]\n",
            " [6]]\n",
            "shape of \"a2\": (1, 2)\n",
            "\n"
          ]
        }
      ]
    },
    {
      "cell_type": "code",
      "source": [
        "# Concatenation along the rows\n",
        "b = np.concatenate([a0,a1], 0) # it is an array 3x2\n",
        "print('matrix  \"b\":\\n', b)\n",
        "print('shape of  \"b\"', b.shape)"
      ],
      "metadata": {
        "id": "tYAkYptPFC5R",
        "colab": {
          "base_uri": "https://localhost:8080/"
        },
        "outputId": "0f5f1101-12ac-4ad0-e3d5-a46ea469112f"
      },
      "execution_count": null,
      "outputs": [
        {
          "output_type": "stream",
          "name": "stdout",
          "text": [
            "matrix  \"b\":\n",
            " [[1 2]\n",
            " [3 4]\n",
            " [5 6]]\n",
            "shape of  \"b\" (3, 2)\n"
          ]
        }
      ]
    },
    {
      "cell_type": "code",
      "source": [
        "# Concatenation along the columns\n",
        "c = np.concatenate([a0,a2], 1) # it is an array 2x3\n",
        "print('matrix  \"c\":\\n',c)\n",
        "print('shape of  \"c\"', c.shape)"
      ],
      "metadata": {
        "id": "xTBV2oUUFHpI",
        "colab": {
          "base_uri": "https://localhost:8080/"
        },
        "outputId": "5007fab1-78a0-4b15-c8fb-225301bbe7c8"
      },
      "execution_count": null,
      "outputs": [
        {
          "output_type": "stream",
          "name": "stdout",
          "text": [
            "matrix  \"c\":\n",
            " [[1 2 5]\n",
            " [3 4 6]]\n",
            "shape of  \"c\" (2, 3)\n"
          ]
        }
      ]
    },
    {
      "cell_type": "markdown",
      "metadata": {
        "id": "Yyw4-AlINTmr"
      },
      "source": [
        "## `np.stack(arrays_list, axis)`\n",
        "joins a list of arrays along a new axis. if axis=0 the new axis is created at the beginning while if axis=-1 the new axis is created at the end."
      ]
    },
    {
      "cell_type": "code",
      "metadata": {
        "ExecuteTime": {
          "end_time": "2019-05-16T13:48:15.634604Z",
          "start_time": "2019-05-16T13:48:15.539077Z"
        },
        "id": "aQbv0ymHNTmr",
        "colab": {
          "base_uri": "https://localhost:8080/"
        },
        "outputId": "7e46c5e9-6770-4147-c603-c694b744b5ee"
      },
      "source": [
        "a0 = np.array([[1, 2, 4], [3, 4, 8]])  # it is a matrix 2x3\n",
        "a1 = np.array([[5, 6, 7], [5, 7, 9]])  # it is a matrix 2x3\n",
        "print('matrix \"a0\":\\n', a0)\n",
        "print('shape of \"a0\":', a0.shape)\n",
        "print('matrix \"a1\":\\n', a1)\n",
        "print('shape of \"a1\":', a1.shape)\n",
        "print()\n",
        "\n",
        "# stacking \n",
        "b = np.stack([a0,a1],0)      # it is an array 2x2x3\n",
        "print('array  \"b\":\\n', b)\n",
        "print('shape of  \"b\"', b.shape) \n",
        "\n",
        "# stacking\n",
        "c = np.stack([a0,a1], -1)   # it is an array 2x3x2\n",
        "print('array  \"c\":\\n', c)\n",
        "print('shape of  \"c\"', c.shape) "
      ],
      "execution_count": null,
      "outputs": [
        {
          "output_type": "stream",
          "name": "stdout",
          "text": [
            "matrix \"a0\":\n",
            " [[1 2 4]\n",
            " [3 4 8]]\n",
            "shape of \"a0\": (2, 3)\n",
            "matrix \"a1\":\n",
            " [[5 6 7]\n",
            " [5 7 9]]\n",
            "shape of \"a1\": (2, 3)\n",
            "\n",
            "array  \"b\":\n",
            " [[[1 2 4]\n",
            "  [3 4 8]]\n",
            "\n",
            " [[5 6 7]\n",
            "  [5 7 9]]]\n",
            "shape of  \"b\" (2, 2, 3)\n",
            "array  \"c\":\n",
            " [[[1 5]\n",
            "  [2 6]\n",
            "  [4 7]]\n",
            "\n",
            " [[3 5]\n",
            "  [4 7]\n",
            "  [8 9]]]\n",
            "shape of  \"c\" (2, 3, 2)\n"
          ]
        }
      ]
    },
    {
      "cell_type": "markdown",
      "metadata": {
        "id": "E3TvTtK6NTmt"
      },
      "source": [
        "## `np.reshape(array, newshape, order='C')`\n",
        "modifies the shape to the array without changing its data."
      ]
    },
    {
      "cell_type": "code",
      "metadata": {
        "ExecuteTime": {
          "end_time": "2019-05-16T13:48:15.739227Z",
          "start_time": "2019-05-16T13:48:15.637619Z"
        },
        "id": "-g6CVfE8NTmu",
        "colab": {
          "base_uri": "https://localhost:8080/"
        },
        "outputId": "4e9c25d7-6225-4e6a-8097-768d6034a668"
      },
      "source": [
        "vector = np.random.rand(12)\n",
        "matrix = np.reshape(vector, (4,3))\n",
        "\n",
        "print(\"vector:\\n\", vector)\n",
        "print(\"matrix:\\n\", matrix)\n",
        "\n",
        "# \"vector\" and \"matrix\" have same data but different shapes"
      ],
      "execution_count": null,
      "outputs": [
        {
          "output_type": "stream",
          "name": "stdout",
          "text": [
            "vector:\n",
            " [0.4621329  0.4481099  0.42933559 0.97550845 0.4034392  0.60124881\n",
            " 0.38030601 0.48988105 0.58170293 0.90037496 0.28381073 0.37285954]\n",
            "matrix:\n",
            " [[0.4621329  0.4481099  0.42933559]\n",
            " [0.97550845 0.4034392  0.60124881]\n",
            " [0.38030601 0.48988105 0.58170293]\n",
            " [0.90037496 0.28381073 0.37285954]]\n"
          ]
        }
      ]
    },
    {
      "cell_type": "markdown",
      "metadata": {
        "id": "21WLS69INTmw"
      },
      "source": [
        "Note, by default the reshape follows the C-like index order (the rows of the matrix are placed in contiguous indexes like in C/C++).\n",
        "\n",
        "While, executing the reshape with `order='F'`, it follows the F-like index order (the columns of the matrix are placed in contiguous indexes like in Fortran and Matlab)."
      ]
    },
    {
      "cell_type": "code",
      "metadata": {
        "ExecuteTime": {
          "end_time": "2019-05-16T13:48:15.821275Z",
          "start_time": "2019-05-16T13:48:15.742384Z"
        },
        "id": "qfW0HcePNTmw",
        "colab": {
          "base_uri": "https://localhost:8080/"
        },
        "outputId": "7ed87796-86cc-4ee4-e131-1676f05ea9ae"
      },
      "source": [
        "matrixF = np.reshape(vector, (4,3), order='F')\n",
        "\n",
        "print(\"matrix in C-like order:\\n\", matrix)\n",
        "print(\"matrix in F-like order:\\n\", matrixF)"
      ],
      "execution_count": null,
      "outputs": [
        {
          "output_type": "stream",
          "name": "stdout",
          "text": [
            "matrix in C-like order:\n",
            " [[0.4621329  0.4481099  0.42933559]\n",
            " [0.97550845 0.4034392  0.60124881]\n",
            " [0.38030601 0.48988105 0.58170293]\n",
            " [0.90037496 0.28381073 0.37285954]]\n",
            "matrix in F-like order:\n",
            " [[0.4621329  0.4034392  0.58170293]\n",
            " [0.4481099  0.60124881 0.90037496]\n",
            " [0.42933559 0.38030601 0.28381073]\n",
            " [0.97550845 0.48988105 0.37285954]]\n"
          ]
        }
      ]
    },
    {
      "cell_type": "markdown",
      "metadata": {
        "id": "I7_lL6MWNTm0"
      },
      "source": [
        "## `np.transpose(array, axes)`\n",
        "swaps the dimensions of the array."
      ]
    },
    {
      "cell_type": "code",
      "metadata": {
        "ExecuteTime": {
          "end_time": "2019-05-16T13:48:15.934783Z",
          "start_time": "2019-05-16T13:48:15.825420Z"
        },
        "id": "ZLhzgJJpNTm1",
        "colab": {
          "base_uri": "https://localhost:8080/"
        },
        "outputId": "addb8f70-6611-4f68-86c9-54e88ec2f308"
      },
      "source": [
        "# transpose of a matrix\n",
        "matrix = np.random.rand(4,3)  # a bidimensional matrix\n",
        "\n",
        "# swap the first dimension with the second one\n",
        "matrixT = np.transpose(matrix, (1,0) )  \n",
        "\n",
        "print(\"original  matrix:\\n\", matrix)\n",
        "print(\"shape of original  matrix:\", matrix.shape)\n",
        "print()\n",
        "\n",
        "print(\"transpose matrix:\\n\", matrixT)\n",
        "print(\"shape of transpose matrix:\", matrixT.shape)\n",
        "print()"
      ],
      "execution_count": null,
      "outputs": [
        {
          "output_type": "stream",
          "name": "stdout",
          "text": [
            "original  matrix:\n",
            " [[0.70097564 0.39179945 0.38237794]\n",
            " [0.08317342 0.00096545 0.75679412]\n",
            " [0.63491242 0.41766064 0.62652589]\n",
            " [0.54247519 0.57722568 0.28293499]]\n",
            "shape of original  matrix: (4, 3)\n",
            "\n",
            "transpose matrix:\n",
            " [[0.70097564 0.08317342 0.63491242 0.54247519]\n",
            " [0.39179945 0.00096545 0.41766064 0.57722568]\n",
            " [0.38237794 0.75679412 0.62652589 0.28293499]]\n",
            "shape of transpose matrix: (3, 4)\n",
            "\n"
          ]
        }
      ]
    },
    {
      "cell_type": "code",
      "metadata": {
        "ExecuteTime": {
          "end_time": "2019-05-16T13:48:16.037644Z",
          "start_time": "2019-05-16T13:48:15.938881Z"
        },
        "id": "Ti6LbKWtNTm4",
        "colab": {
          "base_uri": "https://localhost:8080/"
        },
        "outputId": "60340a8e-edb9-4d7b-a43b-b27a66fd5667"
      },
      "source": [
        "# transpose of a multidimensional array\n",
        "array = np.random.rand(4,2,3)  # an array with three dimensions\n",
        "\n",
        "# swap the first dimension with the third one\n",
        "arrayT = np.transpose(array, (2,1,0) )  \n",
        "\n",
        "print(\"original  array:\\n\", array)\n",
        "print(\"shape of original  array:\", array.shape)\n",
        "print()\n",
        "\n",
        "print(\"transpose array:\\n\", arrayT)\n",
        "print(\"shape of transpose array:\", arrayT.shape)\n",
        "print()"
      ],
      "execution_count": null,
      "outputs": [
        {
          "output_type": "stream",
          "name": "stdout",
          "text": [
            "original  array:\n",
            " [[[0.08257035 0.33580497 0.39187571]\n",
            "  [0.03230897 0.52307041 0.46244249]]\n",
            "\n",
            " [[0.84310739 0.61902259 0.85168321]\n",
            "  [0.73271325 0.34474178 0.58080676]]\n",
            "\n",
            " [[0.97940744 0.24944127 0.41918342]\n",
            "  [0.97661853 0.95492825 0.34698154]]\n",
            "\n",
            " [[0.3794036  0.6493152  0.65971358]\n",
            "  [0.07430907 0.9785212  0.04342592]]]\n",
            "shape of original  array: (4, 2, 3)\n",
            "\n",
            "transpose array:\n",
            " [[[0.08257035 0.84310739 0.97940744 0.3794036 ]\n",
            "  [0.03230897 0.73271325 0.97661853 0.07430907]]\n",
            "\n",
            " [[0.33580497 0.61902259 0.24944127 0.6493152 ]\n",
            "  [0.52307041 0.34474178 0.95492825 0.9785212 ]]\n",
            "\n",
            " [[0.39187571 0.85168321 0.41918342 0.65971358]\n",
            "  [0.46244249 0.58080676 0.34698154 0.04342592]]]\n",
            "shape of transpose array: (3, 2, 4)\n",
            "\n"
          ]
        }
      ]
    },
    {
      "cell_type": "markdown",
      "metadata": {
        "id": "8gPUquNmNTm6"
      },
      "source": [
        "# Reductions\n",
        "\n",
        "Numpy provides functions to \"aggregate\" our data along a particular axis or the whole array, such as `np.sum( )`, `np.mean( )`, `np.var( )`, `np.median( )`, `np.min( )`, `np.max( )`."
      ]
    },
    {
      "cell_type": "code",
      "metadata": {
        "ExecuteTime": {
          "end_time": "2019-05-16T13:48:16.128080Z",
          "start_time": "2019-05-16T13:48:16.041412Z"
        },
        "id": "HhxLVZpLNTm6",
        "colab": {
          "base_uri": "https://localhost:8080/"
        },
        "outputId": "37c37ab1-8394-42bc-dd4c-8fabab79ff9b"
      },
      "source": [
        "a1 = np.array([[4.4, 5.0], [1.0, 3.2], [1.7, 2.4]] )  # array 3x2\n",
        "\n",
        "print(\"sum of the whole array:\", np.sum(a1) )\n",
        "print(\"sum of the array along the columns:\", np.sum(a1, axis=0) )\n",
        "print(\"sum of the array along the rows:\", np.sum(a1, 1) )"
      ],
      "execution_count": null,
      "outputs": [
        {
          "output_type": "stream",
          "name": "stdout",
          "text": [
            "sum of the whole array: 17.7\n",
            "sum of the array along the columns: [ 7.1 10.6]\n",
            "sum of the array along the rows: [9.4 4.2 4.1]\n"
          ]
        }
      ]
    },
    {
      "cell_type": "markdown",
      "metadata": {
        "id": "tfPnYmnRNTm9"
      },
      "source": [
        "The other functions to \"aggregate\" have the same syntax."
      ]
    },
    {
      "cell_type": "markdown",
      "metadata": {
        "id": "z6HlrPQsNTm9"
      },
      "source": [
        "# Save & Load\n",
        "\n",
        "To save and load an array, we can use the functions `np.save( )` and `np.load( )`."
      ]
    },
    {
      "cell_type": "code",
      "metadata": {
        "ExecuteTime": {
          "end_time": "2019-05-16T13:48:16.281600Z",
          "start_time": "2019-05-16T13:48:16.132191Z"
        },
        "id": "EjB8hR4SNTm-"
      },
      "source": [
        "a1 = np.array([[4.4, 5.0], [1.0, 3.2], [1.7, 2.4]] )  # array 3x2\n",
        "\n",
        "np.save(\"/content/drive/MyDrive/array_file.npy\", a1)\n",
        "\n",
        "del a1\n",
        "\n",
        "a1 = np.load(\"/content/drive/MyDrive/array_file.npy\")\n",
        "print(a1)\n",
        "\n"
      ],
      "execution_count": null,
      "outputs": []
    },
    {
      "cell_type": "markdown",
      "metadata": {
        "id": "FQ2UI6bRNTnA"
      },
      "source": [
        "File extension used by Numpy to store an array is `.npy`"
      ]
    }
  ]
}